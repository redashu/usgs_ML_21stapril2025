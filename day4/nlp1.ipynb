{
 "cells": [
  {
   "cell_type": "code",
   "execution_count": 1,
   "id": "305c8058-103b-4c11-8a65-fcfc4197ef8b",
   "metadata": {},
   "outputs": [
    {
     "name": "stdout",
     "output_type": "stream",
     "text": [
      "Word Tokens: ['Natural', 'Language', 'Processing', 'is', 'fun', '!', 'Let', \"'s\", 'learn', 'NLP', '.']\n",
      "Sentence Tokens: ['Natural Language Processing is fun!', \"Let's learn NLP.\"]\n"
     ]
    }
   ],
   "source": [
    "import nltk\n",
    "#nltk.download('punkt')  # Download required data\n",
    "\n",
    "text = \"Natural Language Processing is fun! Let's learn NLP.\"\n",
    "\n",
    "# Word Tokenization\n",
    "words = nltk.word_tokenize(text)\n",
    "print(\"Word Tokens:\", words)\n",
    "# Output: ['Natural', 'Language', 'Processing', 'is', 'fun', '!', 'Let', \"'s\", 'learn', 'NLP', '.']\n",
    "\n",
    "# Sentence Tokenization\n",
    "sentences = nltk.sent_tokenize(text)\n",
    "print(\"Sentence Tokens:\", sentences)\n",
    "# Output: ['Natural Language Processing is fun!', \"Let's learn NLP.\"]"
   ]
  },
  {
   "cell_type": "code",
   "execution_count": 2,
   "id": "6201147b-6dd4-47ed-86e3-2d53a98a7b36",
   "metadata": {},
   "outputs": [
    {
     "name": "stdout",
     "output_type": "stream",
     "text": [
      "Word Tokens: ['Natural', 'Language', 'Processing', 'is', 'fun', 'Let', \"'s\", 'learn', 'NLP']\n",
      "Sentence Tokens: [Sentence(\"Natural Language Processing is fun!\"), Sentence(\"Let's learn NLP.\")]\n"
     ]
    }
   ],
   "source": [
    "from textblob import TextBlob\n",
    "\n",
    "blob = TextBlob(\"Natural Language Processing is fun! Let's learn NLP.\")\n",
    "\n",
    "# Word Tokenization\n",
    "print(\"Word Tokens:\", blob.words)\n",
    "# Output: ['Natural', 'Language', 'Processing', 'is', 'fun', 'Let', \"'s\", 'learn', 'NLP']\n",
    "\n",
    "# Sentence Tokenization\n",
    "print(\"Sentence Tokens:\", blob.sentences)\n",
    "# Output: [Sentence(\"Natural Language Processing is fun!\"), Sentence(\"Let's learn NLP.\")]"
   ]
  },
  {
   "cell_type": "code",
   "execution_count": 3,
   "id": "5663048d-9837-4bd4-bded-449740410bd8",
   "metadata": {},
   "outputs": [
    {
     "name": "stdout",
     "output_type": "stream",
     "text": [
      "POS Tags: [('I', 'PRP'), ('love', 'VBP'), ('coding', 'VBG'), ('in', 'IN'), ('Python', 'NNP'), ('.', '.')]\n"
     ]
    }
   ],
   "source": [
    "#nltk.download('averaged_perceptron_tagger')\n",
    "\n",
    "text = \"I love coding in Python.\"\n",
    "tokens = nltk.word_tokenize(text)\n",
    "pos_tags = nltk.pos_tag(tokens)\n",
    "print(\"POS Tags:\", pos_tags)\n",
    "# Output: [('I', 'PRP'), ('love', 'VBP'), ('coding', 'VBG'), ('in', 'IN'), ('Python', 'NNP'), ('.', '.')]"
   ]
  },
  {
   "cell_type": "code",
   "execution_count": 4,
   "id": "04be3762-4394-49b8-9509-3c7297470726",
   "metadata": {},
   "outputs": [
    {
     "name": "stdout",
     "output_type": "stream",
     "text": [
      "POS Tags: [('I', 'PRP'), ('love', 'VBP'), ('coding', 'VBG'), ('in', 'IN'), ('Python', 'NNP')]\n"
     ]
    }
   ],
   "source": [
    "blob = TextBlob(\"I love coding in Python.\")\n",
    "print(\"POS Tags:\", blob.tags)\n",
    "# Output: [('I', 'PRP'), ('love', 'VBP'), ('coding', 'VBG'), ('in', 'IN'), ('Python', 'NNP')]"
   ]
  },
  {
   "cell_type": "code",
   "execution_count": 5,
   "id": "807b9247-16f5-4618-92a3-7b765177b697",
   "metadata": {},
   "outputs": [
    {
     "name": "stdout",
     "output_type": "stream",
     "text": [
      "Sentiment Polarity: -0.08750000000000002\n",
      "Subjectivity: 0.75\n"
     ]
    }
   ],
   "source": [
    "from textblob import TextBlob\n",
    "\n",
    "text = \"I hate rainy days, but I love Python!\"\n",
    "blob = TextBlob(text)\n",
    "\n",
    "# Polarity (-1 to 1: Negative to Positive)\n",
    "print(\"Sentiment Polarity:\", blob.sentiment.polarity)  # Output: 0.35 (Slightly Positive)\n",
    "\n",
    "# Subjectivity (0 to 1: Objective to Subjective)\n",
    "print(\"Subjectivity:\", blob.sentiment.subjectivity)    # Output: 0.6 (Fairly Subjective)"
   ]
  },
  {
   "cell_type": "code",
   "execution_count": 6,
   "id": "b63ea062-24d0-4196-bfc2-517fe43df0eb",
   "metadata": {},
   "outputs": [
    {
     "ename": "AttributeError",
     "evalue": "'TextBlob' object has no attribute 'translate'",
     "output_type": "error",
     "traceback": [
      "\u001b[31m---------------------------------------------------------------------------\u001b[39m",
      "\u001b[31mAttributeError\u001b[39m                            Traceback (most recent call last)",
      "\u001b[36mCell\u001b[39m\u001b[36m \u001b[39m\u001b[32mIn[6]\u001b[39m\u001b[32m, line 2\u001b[39m\n\u001b[32m      1\u001b[39m blob = TextBlob(\u001b[33m\"\u001b[39m\u001b[33mBonjour le monde!\u001b[39m\u001b[33m\"\u001b[39m)\n\u001b[32m----> \u001b[39m\u001b[32m2\u001b[39m \u001b[38;5;28mprint\u001b[39m(\u001b[33m\"\u001b[39m\u001b[33mTranslated to English:\u001b[39m\u001b[33m\"\u001b[39m, \u001b[43mblob\u001b[49m\u001b[43m.\u001b[49m\u001b[43mtranslate\u001b[49m(to=\u001b[33m'\u001b[39m\u001b[33men\u001b[39m\u001b[33m'\u001b[39m))\n\u001b[32m      3\u001b[39m \u001b[38;5;66;03m# Output: \"Hello world!\"\u001b[39;00m\n",
      "\u001b[31mAttributeError\u001b[39m: 'TextBlob' object has no attribute 'translate'"
     ]
    }
   ],
   "source": [
    "blob = TextBlob(\"Bonjour le monde!\")\n",
    "print(\"Translated to English:\", blob.translate(to='en'))\n",
    "# Output: \"Hello world!\""
   ]
  },
  {
   "cell_type": "code",
   "execution_count": 8,
   "id": "c2904e55-625f-43a2-9fd9-cc47bae21dbc",
   "metadata": {},
   "outputs": [
    {
     "name": "stdout",
     "output_type": "stream",
     "text": [
      "Noun Phrases: ['language processing', 'ai']\n"
     ]
    }
   ],
   "source": [
    "blob = TextBlob(\"Natural Language Processing is a subfield of AI.\")\n",
    "print(\"Noun Phrases:\", blob.noun_phrases)\n",
    "# Output: ['natural language processing', 'subfield', 'ai']"
   ]
  },
  {
   "cell_type": "code",
   "execution_count": 9,
   "id": "28aa4655-fb92-4e7f-b020-6d7ff8e82b63",
   "metadata": {},
   "outputs": [
    {
     "name": "stdout",
     "output_type": "stream",
     "text": [
      "Corrected Text: I love Myth!\n"
     ]
    }
   ],
   "source": [
    "blob = TextBlob(\"I lve Pythn!\")\n",
    "print(\"Corrected Text:\", blob.correct())\n",
    "# Output: \"I love Python!\""
   ]
  },
  {
   "cell_type": "code",
   "execution_count": 10,
   "id": "493b967d-ab93-41ed-a893-11b987b1f938",
   "metadata": {},
   "outputs": [
    {
     "name": "stdout",
     "output_type": "stream",
     "text": [
      "Plural: apples\n",
      "Singular: box\n"
     ]
    }
   ],
   "source": [
    "from textblob import Word\n",
    "\n",
    "word = Word(\"apple\")\n",
    "print(\"Plural:\", word.pluralize())  # Output: \"apples\"\n",
    "\n",
    "word = Word(\"boxes\")\n",
    "print(\"Singular:\", word.singularize())  # Output: \"box\""
   ]
  },
  {
   "cell_type": "code",
   "execution_count": 11,
   "id": "00ec3122-55a7-46d9-8b45-bef1d1eae0a6",
   "metadata": {},
   "outputs": [
    {
     "name": "stdout",
     "output_type": "stream",
     "text": [
      "Frequency Distribution: [('apple', 3), ('banana', 2), ('orange', 1)]\n"
     ]
    }
   ],
   "source": [
    "from nltk import FreqDist\n",
    "\n",
    "text = \"apple banana apple orange banana apple\"\n",
    "tokens = nltk.word_tokenize(text)\n",
    "freq_dist = FreqDist(tokens)\n",
    "\n",
    "print(\"Frequency Distribution:\", freq_dist.most_common())\n",
    "# Output: [('apple', 3), ('banana', 2), ('orange', 1)]"
   ]
  },
  {
   "cell_type": "code",
   "execution_count": 12,
   "id": "b610db4d-0323-4d22-9934-7c2e13b45671",
   "metadata": {},
   "outputs": [
    {
     "name": "stdout",
     "output_type": "stream",
     "text": [
      "Filtered Words: ['sample', 'sentence', 'showing', 'stopword', 'filtration', '.']\n"
     ]
    },
    {
     "name": "stderr",
     "output_type": "stream",
     "text": [
      "[nltk_data] Downloading package stopwords to\n",
      "[nltk_data]     /home/learntechbyme/nltk_data...\n",
      "[nltk_data]   Package stopwords is already up-to-date!\n"
     ]
    }
   ],
   "source": [
    "nltk.download('stopwords')\n",
    "from nltk.corpus import stopwords\n",
    "\n",
    "text = \"This is a sample sentence showing off stopword filtration.\"\n",
    "tokens = nltk.word_tokenize(text)\n",
    "\n",
    "stop_words = set(stopwords.words('english'))\n",
    "filtered_words = [word for word in tokens if word.lower() not in stop_words]\n",
    "\n",
    "print(\"Filtered Words:\", filtered_words)\n",
    "# Output: ['sample', 'sentence', 'showing', 'stopword', 'filtration', '.']"
   ]
  },
  {
   "cell_type": "code",
   "execution_count": 13,
   "id": "3f184f08-4f14-4fbf-b12e-cec498a8360d",
   "metadata": {},
   "outputs": [
    {
     "name": "stderr",
     "output_type": "stream",
     "text": [
      "[nltk_data] Downloading package wordnet to\n",
      "[nltk_data]     /home/learntechbyme/nltk_data...\n",
      "[nltk_data]   Package wordnet is already up-to-date!\n"
     ]
    },
    {
     "name": "stdout",
     "output_type": "stream",
     "text": [
      "Synonyms for 'happy': {'well-chosen', 'felicitous', 'glad', 'happy'}\n"
     ]
    }
   ],
   "source": [
    "nltk.download('wordnet')\n",
    "from nltk.corpus import wordnet\n",
    "\n",
    "synonyms = []\n",
    "for syn in wordnet.synsets(\"happy\"):\n",
    "    for lemma in syn.lemmas():\n",
    "        synonyms.append(lemma.name())\n",
    "\n",
    "print(\"Synonyms for 'happy':\", set(synonyms))\n",
    "# Output: {'felicitous', 'glad', 'happy', 'well-chosen', 'content', ...}"
   ]
  },
  {
   "cell_type": "code",
   "execution_count": null,
   "id": "4719545a-3f30-4999-a812-de0283e511c9",
   "metadata": {},
   "outputs": [],
   "source": []
  }
 ],
 "metadata": {
  "kernelspec": {
   "display_name": "Python 3 (ipykernel)",
   "language": "python",
   "name": "python3"
  },
  "language_info": {
   "codemirror_mode": {
    "name": "ipython",
    "version": 3
   },
   "file_extension": ".py",
   "mimetype": "text/x-python",
   "name": "python",
   "nbconvert_exporter": "python",
   "pygments_lexer": "ipython3",
   "version": "3.12.3"
  }
 },
 "nbformat": 4,
 "nbformat_minor": 5
}
